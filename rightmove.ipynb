{
 "cells": [
  {
   "cell_type": "code",
   "execution_count": 1,
   "metadata": {},
   "outputs": [],
   "source": [
    "from rightmove_scan_notify import prepare_search_parameters\n",
    "import os"
   ]
  },
  {
   "cell_type": "code",
   "execution_count": 2,
   "metadata": {},
   "outputs": [
    {
     "data": {
      "text/plain": [
       "{'searchType': 'SALE',\n",
       " 'locationIdentifier': ['REGION%5E357',\n",
       "  'REGION%5E19557',\n",
       "  'REGION%5E15659',\n",
       "  'REGION%5E804'],\n",
       " 'locationName': ['Consett', 'Wales1', 'Wales2', 'Lincoln'],\n",
       " 'radius': '40.0',\n",
       " 'minPrice': '40000',\n",
       " 'maxPrice': '200000',\n",
       " 'minBedrooms': '',\n",
       " 'maxDaysSinceAdded': '',\n",
       " 'keywords': 'cash buyers only, standard construction',\n",
       " 'sortType': '18',\n",
       " 'propertyTypes': 'bungalow,detached,semi-detached',\n",
       " 'dontShow': 'retirement,sharedOwnership',\n",
       " 'mustHave': 'garden'}"
      ]
     },
     "execution_count": 2,
     "metadata": {},
     "output_type": "execute_result"
    }
   ],
   "source": [
    "eval(os.environ['SEARCH_PARAMS'])"
   ]
  },
  {
   "cell_type": "code",
   "execution_count": 3,
   "metadata": {},
   "outputs": [],
   "source": [
    "os.environ['SSL_PORT'] = str(465)\n",
    "os.environ['SMTP_SERVER'] = \"***\"\n",
    "os.environ['SENDER_EMAIL'] = \"***\"\n",
    "os.environ['RECEIVER_EMAIL'] = \"***\"\n",
    "os.environ['EMAIL_PASSWORD'] = \"***\"\n",
    "\n",
    "os.environ['YES_PLS'] = str(['cash buyers only'])\n",
    "os.environ['NO_THX'] = str([])\n",
    "\n",
    "os.environ['SEARCH_PARAMS'] = str(\n",
    "    {\n",
    "     'searchType': 'SALE', # RENT or SALE\n",
    "     'locationIdentifier': ['REGION%5E357', 'REGION%5E19557', 'REGION%5E15659', 'REGION%5E804'],\n",
    "    'locationName': ['Consett', 'Wales1', 'Wales2', 'Lincoln'], \n",
    "     'radius': '5.0',\n",
    "     'minPrice': '40000',\n",
    "     'maxPrice': '60000',\n",
    "     'minBedrooms': '',\n",
    "     'maxDaysSinceAdded': '',\n",
    "     'keywords':'cash buyers only',\n",
    "     'sortType':'18'\n",
    "     }\n",
    ")"
   ]
  },
  {
   "cell_type": "code",
   "execution_count": 7,
   "metadata": {},
   "outputs": [
    {
     "name": "stdout",
     "output_type": "stream",
     "text": [
      "Processing page 0\n",
      "https://www.rightmove.co.uk/property-for-sale/find.html?insId=1&searchType=SALE&locationIdentifier=REGION%5E357&radius=5.0&minPrice=40000&maxPrice=60000&minBedrooms=&maxDaysSinceAdded=1&keywords=cash+buyers+only&sortType=18\n",
      "Finished searching\n",
      "Processing page 0\n",
      "https://www.rightmove.co.uk/property-for-sale/find.html?insId=1&searchType=SALE&locationIdentifier=REGION%5E19557&radius=5.0&minPrice=40000&maxPrice=60000&minBedrooms=&maxDaysSinceAdded=1&keywords=cash+buyers+only&sortType=18\n",
      "Finished searching\n",
      "Processing page 0\n",
      "https://www.rightmove.co.uk/property-for-sale/find.html?insId=1&searchType=SALE&locationIdentifier=REGION%5E15659&radius=5.0&minPrice=40000&maxPrice=60000&minBedrooms=&maxDaysSinceAdded=1&keywords=cash+buyers+only&sortType=18\n",
      "Finished searching\n",
      "Processing page 0\n",
      "https://www.rightmove.co.uk/property-for-sale/find.html?insId=1&searchType=SALE&locationIdentifier=REGION%5E804&radius=5.0&minPrice=40000&maxPrice=60000&minBedrooms=&maxDaysSinceAdded=1&keywords=cash+buyers+only&sortType=18\n",
      "Finished searching\n"
     ]
    }
   ],
   "source": [
    "prepare_search_parameters()"
   ]
  }
 ],
 "metadata": {
  "kernelspec": {
   "display_name": "Python 3",
   "language": "python",
   "name": "python3"
  },
  "language_info": {
   "codemirror_mode": {
    "name": "ipython",
    "version": 3
   },
   "file_extension": ".py",
   "mimetype": "text/x-python",
   "name": "python",
   "nbconvert_exporter": "python",
   "pygments_lexer": "ipython3",
   "version": "3.10.11"
  }
 },
 "nbformat": 4,
 "nbformat_minor": 2
}
